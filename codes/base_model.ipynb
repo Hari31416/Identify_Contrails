{
 "cells": [
  {
   "cell_type": "code",
   "execution_count": 1,
   "metadata": {},
   "outputs": [
    {
     "name": "stderr",
     "output_type": "stream",
     "text": [
      "2023-06-02 20:59:39.851278: I tensorflow/core/platform/cpu_feature_guard.cc:193] This TensorFlow binary is optimized with oneAPI Deep Neural Network Library (oneDNN) to use the following CPU instructions in performance-critical operations:  AVX2 FMA\n",
      "To enable them in other operations, rebuild TensorFlow with the appropriate compiler flags.\n"
     ]
    }
   ],
   "source": [
    "import numpy as np\n",
    "import pandas as pd\n",
    "import matplotlib.pyplot as plt\n",
    "import glob\n",
    "\n",
    "# import torch\n",
    "# import torch.nn as nn\n",
    "# import torch.nn.functional as F\n",
    "# from torchvision import datasets, transforms, models\n",
    "\n",
    "import tensorflow as tf\n",
    "from tensorflow.keras import datasets, layers, models, optimizers\n",
    "from tensorflow.keras.layers import Dense, Dropout, Activation, Flatten, Conv2D, MaxPooling2D, BatchNormalization"
   ]
  },
  {
   "cell_type": "code",
   "execution_count": 2,
   "metadata": {},
   "outputs": [],
   "source": [
    "DATA_DIR = \"../sample\"\n",
    "BATCH_SIZE = 8"
   ]
  },
  {
   "attachments": {},
   "cell_type": "markdown",
   "metadata": {},
   "source": [
    "# Preparing the data"
   ]
  },
  {
   "cell_type": "code",
   "execution_count": 2,
   "metadata": {},
   "outputs": [],
   "source": [
    "# image_files = glob.glob(DATA_DIR + \"/*/image*.npy\")\n",
    "# mask_files = glob.glob(DATA_DIR + \"/*/label*.npy\")\n",
    "# image_files.sort()\n",
    "# mask_files.sort()\n",
    "# #create a dataframe\n",
    "# df = pd.DataFrame({\"image\": image_files, \"mask\": mask_files})\n",
    "# df.head()"
   ]
  },
  {
   "cell_type": "code",
   "execution_count": 3,
   "metadata": {},
   "outputs": [],
   "source": [
    "# df.to_csv(\"sample.csv\", index=False)"
   ]
  },
  {
   "attachments": {},
   "cell_type": "markdown",
   "metadata": {},
   "source": [
    "# Pytorch"
   ]
  },
  {
   "cell_type": "code",
   "execution_count": 46,
   "metadata": {},
   "outputs": [],
   "source": [
    "#create a dataloader class\n",
    "\n",
    "class DataLoader():\n",
    "    def __init__(self, metadata_dir, batch_size):\n",
    "        self.metadata_dir = metadata_dir\n",
    "        self.batch_size = batch_size\n",
    "        df = pd.read_csv(metadata_dir + \"/sample.csv\")\n",
    "        self.df = df.sample(frac=1).reset_index(drop=True)\n",
    "\n",
    "    def __iter__(self):\n",
    "        for i in range(0, len(self.df), self.batch_size):\n",
    "            batch_df = self.df[i:i+self.batch_size]\n",
    "            image_files = list(batch_df[\"image\"])\n",
    "            mask_files = list(batch_df[\"mask\"])\n",
    "            images = np.stack([np.load(f) for f in image_files])\n",
    "            masks = np.stack([np.load(f) for f in mask_files])\n",
    "            #make the images from hwc to chw\n",
    "            images = images.transpose(0, 3, 1, 2)\n",
    "            yield torch.from_numpy(images).float(), torch.from_numpy(masks).float()\n",
    "\n",
    "    def __len__(self):\n",
    "        return len(self.all_image_files)//batch_size"
   ]
  },
  {
   "cell_type": "code",
   "execution_count": 47,
   "metadata": {},
   "outputs": [],
   "source": [
    "data = DataLoader(\".\", batch_size=BATCH_SIZE)"
   ]
  },
  {
   "cell_type": "code",
   "execution_count": 48,
   "metadata": {},
   "outputs": [
    {
     "name": "stdout",
     "output_type": "stream",
     "text": [
      "torch.Size([8, 3, 256, 256]) torch.Size([8, 256, 256, 1])\n"
     ]
    }
   ],
   "source": [
    "for image, label in data:\n",
    "    print(image.shape, label.shape)\n",
    "    break"
   ]
  },
  {
   "cell_type": "code",
   "execution_count": 44,
   "metadata": {},
   "outputs": [],
   "source": [
    "class UNetEncoder(nn.Module):\n",
    "    def __init__(self, in_channels, out_channels, kernel_size=3, padding=1):\n",
    "        super().__init__()\n",
    "        self.conv1 = nn.Conv2d(in_channels, out_channels, kernel_size=kernel_size, padding=padding)\n",
    "        self.conv2 = nn.Conv2d(out_channels, out_channels, kernel_size=kernel_size, padding=padding)\n",
    "        self.batchnorm = nn.BatchNorm2d(out_channels)\n",
    "        self.relu = nn.ReLU(inplace=True)\n",
    "\n",
    "    def forward(self, x):\n",
    "        x = self.conv1(x)\n",
    "        x = self.batchnorm(x)\n",
    "        x = self.relu(x)\n",
    "        x = self.conv2(x)\n",
    "        x = self.batchnorm(x)\n",
    "        x = self.relu(x)\n",
    "        return x\n",
    "\n",
    "class UNetDecoder(nn.Module):\n",
    "    def __init__(self, in_channels, out_channels, kernel_size=3, padding=1):\n",
    "        super().__init__()\n",
    "        self.conv1 = nn.Conv2d(in_channels, out_channels, kernel_size=kernel_size, padding=padding)\n",
    "        self.conv2 = nn.Conv2d(out_channels, out_channels, kernel_size=kernel_size, padding=padding)\n",
    "        self.batchnorm = nn.BatchNorm2d(out_channels)\n",
    "        self.relu = nn.ReLU(inplace=True)\n",
    "\n",
    "    def forward(self, x, skip_x):\n",
    "        x = F.interpolate(x, scale_factor=2, mode=\"bilinear\", align_corners=True)\n",
    "        x = torch.cat([x, skip_x], axis=1)\n",
    "        x = self.conv1(x)\n",
    "        x = self.batchnorm(x)\n",
    "        x = self.relu(x)\n",
    "        x = self.conv2(x)\n",
    "        x = self.batchnorm(x)\n",
    "        x = self.relu(x)\n",
    "        return x\n",
    "\n",
    "class UNet(nn.Module):\n",
    "    def __init__(self, in_channels, out_channels):\n",
    "        super().__init__()\n",
    "        self.enc1 = UNetEncoder(in_channels, 64)\n",
    "        self.enc2 = UNetEncoder(64, 128)\n",
    "        self.enc3 = UNetEncoder(128, 256)\n",
    "        self.enc4 = UNetEncoder(256, 512)\n",
    "        self.enc5 = UNetEncoder(512, 1024)\n",
    "\n",
    "        self.dec1 = UNetDecoder(1024, 512)\n",
    "        self.dec2 = UNetDecoder(512, 256)\n",
    "        self.dec3 = UNetDecoder(256, 128)\n",
    "        self.dec4 = UNetDecoder(128, 64)\n",
    "\n",
    "        self.out = nn.Conv2d(64, out_channels, kernel_size=1)\n",
    "\n",
    "    def forward(self, x):\n",
    "        #encoder\n",
    "        enc1 = self.enc1(x)\n",
    "        enc2 = self.enc2(F.max_pool2d(enc1, kernel_size=2))\n",
    "        enc3 = self.enc3(F.max_pool2d(enc2, kernel_size=2))\n",
    "        enc4 = self.enc4(F.max_pool2d(enc3, kernel_size=2))\n",
    "        enc5 = self.enc5(F.max_pool2d(enc4, kernel_size=2))\n",
    "\n",
    "        #decoder\n",
    "        dec1 = self.dec1(enc5, enc4)\n",
    "        dec2 = self.dec2(dec1, enc3)\n",
    "        dec3 = self.dec3(dec2, enc2)\n",
    "        dec4 = self.dec4(dec3, enc1)\n",
    "\n",
    "        out = self.out(dec4)\n",
    "        return out"
   ]
  },
  {
   "cell_type": "code",
   "execution_count": 45,
   "metadata": {},
   "outputs": [
    {
     "ename": "RuntimeError",
     "evalue": "Given groups=1, weight of size [64, 3, 3, 3], expected input[8, 256, 256, 3] to have 3 channels, but got 256 channels instead",
     "output_type": "error",
     "traceback": [
      "\u001b[0;31m---------------------------------------------------------------------------\u001b[0m",
      "\u001b[0;31mRuntimeError\u001b[0m                              Traceback (most recent call last)",
      "Cell \u001b[0;32mIn[45], line 24\u001b[0m\n\u001b[1;32m     22\u001b[0m image \u001b[39m=\u001b[39m image\u001b[39m.\u001b[39mto(device)\n\u001b[1;32m     23\u001b[0m mask \u001b[39m=\u001b[39m mask\u001b[39m.\u001b[39mto(device)\n\u001b[0;32m---> 24\u001b[0m pred_mask \u001b[39m=\u001b[39m unet(image)\n\u001b[1;32m     25\u001b[0m loss \u001b[39m=\u001b[39m criterion(pred_mask, mask)\n\u001b[1;32m     26\u001b[0m iou_score \u001b[39m=\u001b[39m iou(pred_mask, mask)\n",
      "File \u001b[0;32m~/anaconda3/envs/data-science/lib/python3.9/site-packages/torch/nn/modules/module.py:1194\u001b[0m, in \u001b[0;36mModule._call_impl\u001b[0;34m(self, *input, **kwargs)\u001b[0m\n\u001b[1;32m   1190\u001b[0m \u001b[39m# If we don't have any hooks, we want to skip the rest of the logic in\u001b[39;00m\n\u001b[1;32m   1191\u001b[0m \u001b[39m# this function, and just call forward.\u001b[39;00m\n\u001b[1;32m   1192\u001b[0m \u001b[39mif\u001b[39;00m \u001b[39mnot\u001b[39;00m (\u001b[39mself\u001b[39m\u001b[39m.\u001b[39m_backward_hooks \u001b[39mor\u001b[39;00m \u001b[39mself\u001b[39m\u001b[39m.\u001b[39m_forward_hooks \u001b[39mor\u001b[39;00m \u001b[39mself\u001b[39m\u001b[39m.\u001b[39m_forward_pre_hooks \u001b[39mor\u001b[39;00m _global_backward_hooks\n\u001b[1;32m   1193\u001b[0m         \u001b[39mor\u001b[39;00m _global_forward_hooks \u001b[39mor\u001b[39;00m _global_forward_pre_hooks):\n\u001b[0;32m-> 1194\u001b[0m     \u001b[39mreturn\u001b[39;00m forward_call(\u001b[39m*\u001b[39;49m\u001b[39minput\u001b[39;49m, \u001b[39m*\u001b[39;49m\u001b[39m*\u001b[39;49mkwargs)\n\u001b[1;32m   1195\u001b[0m \u001b[39m# Do not call functions when jit is used\u001b[39;00m\n\u001b[1;32m   1196\u001b[0m full_backward_hooks, non_full_backward_hooks \u001b[39m=\u001b[39m [], []\n",
      "Cell \u001b[0;32mIn[44], line 55\u001b[0m, in \u001b[0;36mUNet.forward\u001b[0;34m(self, x)\u001b[0m\n\u001b[1;32m     53\u001b[0m \u001b[39mdef\u001b[39;00m \u001b[39mforward\u001b[39m(\u001b[39mself\u001b[39m, x):\n\u001b[1;32m     54\u001b[0m     \u001b[39m#encoder\u001b[39;00m\n\u001b[0;32m---> 55\u001b[0m     enc1 \u001b[39m=\u001b[39m \u001b[39mself\u001b[39;49m\u001b[39m.\u001b[39;49menc1(x)\n\u001b[1;32m     56\u001b[0m     enc2 \u001b[39m=\u001b[39m \u001b[39mself\u001b[39m\u001b[39m.\u001b[39menc2(F\u001b[39m.\u001b[39mmax_pool2d(enc1, kernel_size\u001b[39m=\u001b[39m\u001b[39m2\u001b[39m))\n\u001b[1;32m     57\u001b[0m     enc3 \u001b[39m=\u001b[39m \u001b[39mself\u001b[39m\u001b[39m.\u001b[39menc3(F\u001b[39m.\u001b[39mmax_pool2d(enc2, kernel_size\u001b[39m=\u001b[39m\u001b[39m2\u001b[39m))\n",
      "File \u001b[0;32m~/anaconda3/envs/data-science/lib/python3.9/site-packages/torch/nn/modules/module.py:1194\u001b[0m, in \u001b[0;36mModule._call_impl\u001b[0;34m(self, *input, **kwargs)\u001b[0m\n\u001b[1;32m   1190\u001b[0m \u001b[39m# If we don't have any hooks, we want to skip the rest of the logic in\u001b[39;00m\n\u001b[1;32m   1191\u001b[0m \u001b[39m# this function, and just call forward.\u001b[39;00m\n\u001b[1;32m   1192\u001b[0m \u001b[39mif\u001b[39;00m \u001b[39mnot\u001b[39;00m (\u001b[39mself\u001b[39m\u001b[39m.\u001b[39m_backward_hooks \u001b[39mor\u001b[39;00m \u001b[39mself\u001b[39m\u001b[39m.\u001b[39m_forward_hooks \u001b[39mor\u001b[39;00m \u001b[39mself\u001b[39m\u001b[39m.\u001b[39m_forward_pre_hooks \u001b[39mor\u001b[39;00m _global_backward_hooks\n\u001b[1;32m   1193\u001b[0m         \u001b[39mor\u001b[39;00m _global_forward_hooks \u001b[39mor\u001b[39;00m _global_forward_pre_hooks):\n\u001b[0;32m-> 1194\u001b[0m     \u001b[39mreturn\u001b[39;00m forward_call(\u001b[39m*\u001b[39;49m\u001b[39minput\u001b[39;49m, \u001b[39m*\u001b[39;49m\u001b[39m*\u001b[39;49mkwargs)\n\u001b[1;32m   1195\u001b[0m \u001b[39m# Do not call functions when jit is used\u001b[39;00m\n\u001b[1;32m   1196\u001b[0m full_backward_hooks, non_full_backward_hooks \u001b[39m=\u001b[39m [], []\n",
      "Cell \u001b[0;32mIn[44], line 10\u001b[0m, in \u001b[0;36mUNetEncoder.forward\u001b[0;34m(self, x)\u001b[0m\n\u001b[1;32m      9\u001b[0m \u001b[39mdef\u001b[39;00m \u001b[39mforward\u001b[39m(\u001b[39mself\u001b[39m, x):\n\u001b[0;32m---> 10\u001b[0m     x \u001b[39m=\u001b[39m \u001b[39mself\u001b[39;49m\u001b[39m.\u001b[39;49mconv1(x)\n\u001b[1;32m     11\u001b[0m     x \u001b[39m=\u001b[39m \u001b[39mself\u001b[39m\u001b[39m.\u001b[39mbatchnorm(x)\n\u001b[1;32m     12\u001b[0m     x \u001b[39m=\u001b[39m \u001b[39mself\u001b[39m\u001b[39m.\u001b[39mrelu(x)\n",
      "File \u001b[0;32m~/anaconda3/envs/data-science/lib/python3.9/site-packages/torch/nn/modules/module.py:1194\u001b[0m, in \u001b[0;36mModule._call_impl\u001b[0;34m(self, *input, **kwargs)\u001b[0m\n\u001b[1;32m   1190\u001b[0m \u001b[39m# If we don't have any hooks, we want to skip the rest of the logic in\u001b[39;00m\n\u001b[1;32m   1191\u001b[0m \u001b[39m# this function, and just call forward.\u001b[39;00m\n\u001b[1;32m   1192\u001b[0m \u001b[39mif\u001b[39;00m \u001b[39mnot\u001b[39;00m (\u001b[39mself\u001b[39m\u001b[39m.\u001b[39m_backward_hooks \u001b[39mor\u001b[39;00m \u001b[39mself\u001b[39m\u001b[39m.\u001b[39m_forward_hooks \u001b[39mor\u001b[39;00m \u001b[39mself\u001b[39m\u001b[39m.\u001b[39m_forward_pre_hooks \u001b[39mor\u001b[39;00m _global_backward_hooks\n\u001b[1;32m   1193\u001b[0m         \u001b[39mor\u001b[39;00m _global_forward_hooks \u001b[39mor\u001b[39;00m _global_forward_pre_hooks):\n\u001b[0;32m-> 1194\u001b[0m     \u001b[39mreturn\u001b[39;00m forward_call(\u001b[39m*\u001b[39;49m\u001b[39minput\u001b[39;49m, \u001b[39m*\u001b[39;49m\u001b[39m*\u001b[39;49mkwargs)\n\u001b[1;32m   1195\u001b[0m \u001b[39m# Do not call functions when jit is used\u001b[39;00m\n\u001b[1;32m   1196\u001b[0m full_backward_hooks, non_full_backward_hooks \u001b[39m=\u001b[39m [], []\n",
      "File \u001b[0;32m~/anaconda3/envs/data-science/lib/python3.9/site-packages/torch/nn/modules/conv.py:463\u001b[0m, in \u001b[0;36mConv2d.forward\u001b[0;34m(self, input)\u001b[0m\n\u001b[1;32m    462\u001b[0m \u001b[39mdef\u001b[39;00m \u001b[39mforward\u001b[39m(\u001b[39mself\u001b[39m, \u001b[39minput\u001b[39m: Tensor) \u001b[39m-\u001b[39m\u001b[39m>\u001b[39m Tensor:\n\u001b[0;32m--> 463\u001b[0m     \u001b[39mreturn\u001b[39;00m \u001b[39mself\u001b[39;49m\u001b[39m.\u001b[39;49m_conv_forward(\u001b[39minput\u001b[39;49m, \u001b[39mself\u001b[39;49m\u001b[39m.\u001b[39;49mweight, \u001b[39mself\u001b[39;49m\u001b[39m.\u001b[39;49mbias)\n",
      "File \u001b[0;32m~/anaconda3/envs/data-science/lib/python3.9/site-packages/torch/nn/modules/conv.py:459\u001b[0m, in \u001b[0;36mConv2d._conv_forward\u001b[0;34m(self, input, weight, bias)\u001b[0m\n\u001b[1;32m    455\u001b[0m \u001b[39mif\u001b[39;00m \u001b[39mself\u001b[39m\u001b[39m.\u001b[39mpadding_mode \u001b[39m!=\u001b[39m \u001b[39m'\u001b[39m\u001b[39mzeros\u001b[39m\u001b[39m'\u001b[39m:\n\u001b[1;32m    456\u001b[0m     \u001b[39mreturn\u001b[39;00m F\u001b[39m.\u001b[39mconv2d(F\u001b[39m.\u001b[39mpad(\u001b[39minput\u001b[39m, \u001b[39mself\u001b[39m\u001b[39m.\u001b[39m_reversed_padding_repeated_twice, mode\u001b[39m=\u001b[39m\u001b[39mself\u001b[39m\u001b[39m.\u001b[39mpadding_mode),\n\u001b[1;32m    457\u001b[0m                     weight, bias, \u001b[39mself\u001b[39m\u001b[39m.\u001b[39mstride,\n\u001b[1;32m    458\u001b[0m                     _pair(\u001b[39m0\u001b[39m), \u001b[39mself\u001b[39m\u001b[39m.\u001b[39mdilation, \u001b[39mself\u001b[39m\u001b[39m.\u001b[39mgroups)\n\u001b[0;32m--> 459\u001b[0m \u001b[39mreturn\u001b[39;00m F\u001b[39m.\u001b[39;49mconv2d(\u001b[39minput\u001b[39;49m, weight, bias, \u001b[39mself\u001b[39;49m\u001b[39m.\u001b[39;49mstride,\n\u001b[1;32m    460\u001b[0m                 \u001b[39mself\u001b[39;49m\u001b[39m.\u001b[39;49mpadding, \u001b[39mself\u001b[39;49m\u001b[39m.\u001b[39;49mdilation, \u001b[39mself\u001b[39;49m\u001b[39m.\u001b[39;49mgroups)\n",
      "\u001b[0;31mRuntimeError\u001b[0m: Given groups=1, weight of size [64, 3, 3, 3], expected input[8, 256, 256, 3] to have 3 channels, but got 256 channels instead"
     ]
    }
   ],
   "source": [
    "unet = UNet(3, 1)\n",
    "# unet\n",
    "#fit the model\n",
    "device = torch.device(\"cuda\" if torch.cuda.is_available() else \"cpu\")\n",
    "unet.to(device)\n",
    "optimizer = torch.optim.Adam(unet.parameters(), lr=0.001)\n",
    "criterion = nn.BCEWithLogitsLoss()\n",
    "\n",
    "def iou(pred, target):\n",
    "    pred = torch.sigmoid(pred)\n",
    "    pred = (pred > 0.5).float()\n",
    "    intersection = (pred * target).sum()\n",
    "    union = (pred + target).sum()\n",
    "    return (intersection + 1e-6) / (union + 1e-6)\n",
    "\n",
    "epochs = 10\n",
    "for epoch in range(epochs):\n",
    "    unet.train()\n",
    "    epoch_loss = 0\n",
    "    epoch_iou = 0\n",
    "    for image, mask in data:\n",
    "        image = image.to(device)\n",
    "        mask = mask.to(device)\n",
    "        pred_mask = unet(image)\n",
    "        loss = criterion(pred_mask, mask)\n",
    "        iou_score = iou(pred_mask, mask)\n",
    "        optimizer.zero_grad()\n",
    "        loss.backward()\n",
    "        optimizer.step()\n",
    "        epoch_loss += loss.item()\n",
    "        epoch_iou += iou_score.item()\n",
    "    print(f\"Epoch {epoch+1} Loss: {epoch_loss/len(data)}, IoU: {epoch_iou/len(data)}\")"
   ]
  },
  {
   "cell_type": "code",
   "execution_count": 65,
   "metadata": {},
   "outputs": [],
   "source": [
    "#create a dataloader class\n",
    "\n",
    "class DataLoader(tf.data.Dataset):\n",
    "    def __init__(self, metadata_dir, batch_size):\n",
    "        self.metadata_dir = metadata_dir\n",
    "        self.batch_size = batch_size\n",
    "        df = pd.read_csv(metadata_dir + \"/sample.csv\")\n",
    "        self.df = df.sample(frac=1).reset_index(drop=True)\n",
    "\n",
    "    def __getitem__(self):\n",
    "        for i in range(0, len(self.df), self.batch_size):\n",
    "            batch_df = self.df[i:i+self.batch_size]\n",
    "            image_files = list(batch_df[\"image\"])\n",
    "            mask_files = list(batch_df[\"mask\"])\n",
    "            images = np.stack([np.load(f) for f in image_files])\n",
    "            masks = np.stack([np.load(f) for f in mask_files])\n",
    "            #make the images from hwc to chw\n",
    "            # images = images.transpose(0, 3, 1, 2)\n",
    "            return tf.convert_to_tensor(images, dtype=tf.float32), tf.convert_to_tensor(masks, dtype=tf.float32)\n",
    "    def __len__(self):\n",
    "        return len(self.all_image_files)//batch_size"
   ]
  },
  {
   "cell_type": "code",
   "execution_count": 66,
   "metadata": {},
   "outputs": [
    {
     "ename": "TypeError",
     "evalue": "Can't instantiate abstract class DataLoader with abstract methods _inputs, element_spec",
     "output_type": "error",
     "traceback": [
      "\u001b[0;31m---------------------------------------------------------------------------\u001b[0m",
      "\u001b[0;31mTypeError\u001b[0m                                 Traceback (most recent call last)",
      "Cell \u001b[0;32mIn[66], line 1\u001b[0m\n\u001b[0;32m----> 1\u001b[0m data \u001b[39m=\u001b[39m DataLoader(\u001b[39m\"\u001b[39;49m\u001b[39m.\u001b[39;49m\u001b[39m\"\u001b[39;49m, batch_size\u001b[39m=\u001b[39;49m\u001b[39m4\u001b[39;49m)\n\u001b[1;32m      3\u001b[0m \u001b[39mfor\u001b[39;00m image, mask \u001b[39min\u001b[39;00m data:\n\u001b[1;32m      4\u001b[0m     \u001b[39mprint\u001b[39m(image\u001b[39m.\u001b[39mshape, mask\u001b[39m.\u001b[39mshape)\n",
      "\u001b[0;31mTypeError\u001b[0m: Can't instantiate abstract class DataLoader with abstract methods _inputs, element_spec"
     ]
    }
   ],
   "source": [
    "data = DataLoader(\".\", batch_size=4)\n",
    "\n",
    "for image, mask in data:\n",
    "    print(image.shape, mask.shape)\n",
    "    break"
   ]
  },
  {
   "attachments": {},
   "cell_type": "markdown",
   "metadata": {},
   "source": [
    "# Tensorflow"
   ]
  },
  {
   "cell_type": "code",
   "execution_count": 3,
   "metadata": {},
   "outputs": [
    {
     "name": "stderr",
     "output_type": "stream",
     "text": [
      "2023-06-02 20:59:44.632251: I tensorflow/core/platform/cpu_feature_guard.cc:193] This TensorFlow binary is optimized with oneAPI Deep Neural Network Library (oneDNN) to use the following CPU instructions in performance-critical operations:  AVX2 FMA\n",
      "To enable them in other operations, rebuild TensorFlow with the appropriate compiler flags.\n"
     ]
    }
   ],
   "source": [
    "df = pd.read_csv(\"sample.csv\")\n",
    "df = df.sample(frac=1).reset_index(drop=True)\n",
    "\n",
    "def create_dataset():\n",
    "    for i in range(0, len(df), BATCH_SIZE):\n",
    "        batch_df = df[i : i + BATCH_SIZE]\n",
    "        image_files = list(batch_df[\"image\"])\n",
    "        mask_files = list(batch_df[\"mask\"])\n",
    "        images = np.stack([np.load(f) for f in image_files])\n",
    "        masks = np.stack([np.load(f) for f in mask_files])\n",
    "        # make the images from hwc to chw\n",
    "        # images = images.transpose(0, 3, 1, 2)\n",
    "        yield tf.convert_to_tensor(images, dtype=tf.float32), tf.convert_to_tensor(masks, dtype=tf.float32)\n",
    "\n",
    "data = tf.data.Dataset.from_generator(create_dataset, (tf.float32, tf.float32))"
   ]
  },
  {
   "cell_type": "code",
   "execution_count": 4,
   "metadata": {},
   "outputs": [],
   "source": [
    "class UNetEncoder(tf.keras.layers.Layer):\n",
    "    def __init__(\n",
    "        self, filters, kernel_size=(3, 3), activation=\"relu\", padding=\"same\", **kwargs\n",
    "    ):\n",
    "        super(UNetEncoder, self).__init__(**kwargs)\n",
    "        self.conv1 = tf.keras.layers.Conv2D(\n",
    "            filters, kernel_size, activation=activation, padding=padding\n",
    "        )\n",
    "        self.bn1 = tf.keras.layers.BatchNormalization()\n",
    "        self.conv2 = tf.keras.layers.Conv2D(\n",
    "            filters, kernel_size, activation=activation, padding=padding\n",
    "        )\n",
    "        self.bn2 = tf.keras.layers.BatchNormalization()\n",
    "        self.pool = tf.keras.layers.MaxPooling2D(pool_size=(2, 2))\n",
    "\n",
    "    def call(self, inputs):\n",
    "        # print(inputs.shape)\n",
    "        x = self.conv1(inputs)\n",
    "        x = self.bn1(x)\n",
    "        x = self.conv2(x)\n",
    "        x = self.bn2(x)\n",
    "        pool = self.pool(x)\n",
    "        return x, pool"
   ]
  },
  {
   "cell_type": "code",
   "execution_count": 5,
   "metadata": {},
   "outputs": [],
   "source": [
    "class UNetDecoder(tf.keras.layers.Layer):\n",
    "    def __init__(self, filters, kernel_size=(3, 3), activation='relu', padding='same', **kwargs):\n",
    "        super(UNetDecoder, self).__init__(**kwargs)\n",
    "        self.up_conv = tf.keras.layers.Conv2DTranspose(filters, kernel_size, strides=(2, 2), padding=padding)\n",
    "        self.conv1 = tf.keras.layers.Conv2D(filters, kernel_size, activation=activation, padding=padding)\n",
    "        self.bn1 = tf.keras.layers.BatchNormalization()\n",
    "        self.conv2 = tf.keras.layers.Conv2D(filters, kernel_size, activation=activation, padding=padding)\n",
    "        self.bn2 = tf.keras.layers.BatchNormalization()\n",
    "\n",
    "    def call(self, inputs, concat):\n",
    "        x = self.up_conv(inputs)\n",
    "        x = tf.concat([x, concat], axis=-1)\n",
    "        x = self.conv1(x)\n",
    "        x = self.bn1(x)\n",
    "        x = self.conv2(x)\n",
    "        x = self.bn2(x)\n",
    "        return x"
   ]
  },
  {
   "cell_type": "code",
   "execution_count": 18,
   "metadata": {},
   "outputs": [],
   "source": [
    "class UNet(tf.keras.Model):\n",
    "    def __init__(self, filters, num_classes, kernel_size=(3, 3), activation='relu', padding='same', **kwargs):\n",
    "        super(UNet, self).__init__(**kwargs)\n",
    "        self.encoder1 = UNetEncoder(filters, kernel_size, activation, padding)\n",
    "        self.encoder2 = UNetEncoder(filters*2, kernel_size, activation, padding)\n",
    "        # self.encoder3 = UNetEncoder(filters*4, kernel_size, activation, padding)\n",
    "        # self.encoder4 = UNetEncoder(filters*8, kernel_size, activation, padding)\n",
    "        self.center = tf.keras.layers.Conv2D(filters*16, kernel_size, activation=activation, padding=padding)\n",
    "        # self.decoder4 = UNetDecoder(filters*8, kernel_size, activation, padding)\n",
    "        # self.decoder3 = UNetDecoder(filters*4, kernel_size, activation, padding)\n",
    "        self.decoder2 = UNetDecoder(filters*2, kernel_size, activation, padding)\n",
    "        self.decoder1 = UNetDecoder(filters, kernel_size, activation, padding)\n",
    "        self.output_layer = tf.keras.layers.Conv2D(num_classes, (1, 1), activation='softmax')\n",
    "\n",
    "    def call(self, inputs):\n",
    "        encoder1, pool1 = self.encoder1(inputs)\n",
    "        encoder2, pool2 = self.encoder2(pool1)\n",
    "        # encoder3, pool3 = self.encoder3(pool2)\n",
    "        # encoder4, pool4 = self.encoder4(pool3)\n",
    "        center = self.center(pool2)\n",
    "        # decoder4 = self.decoder4(center, encoder4)\n",
    "        # decoder3 = self.decoder3(decoder4, encoder3)\n",
    "        decoder2 = self.decoder2(center, encoder2)\n",
    "        decoder1 = self.decoder1(decoder2, encoder1)\n",
    "        output = self.output_layer(decoder1)\n",
    "        return output"
   ]
  },
  {
   "cell_type": "code",
   "execution_count": 19,
   "metadata": {},
   "outputs": [],
   "source": [
    "unet = UNet(64, 2)\n",
    "\n",
    "#train the model\n",
    "unet.compile(optimizer='adam', loss='sparse_categorical_crossentropy', metrics=['accuracy'])"
   ]
  },
  {
   "cell_type": "code",
   "execution_count": 20,
   "metadata": {},
   "outputs": [],
   "source": [
    "image, label = next(iter(data))"
   ]
  },
  {
   "cell_type": "code",
   "execution_count": 21,
   "metadata": {},
   "outputs": [
    {
     "name": "stdout",
     "output_type": "stream",
     "text": [
      "Epoch 1/10\n"
     ]
    },
    {
     "name": "stderr",
     "output_type": "stream",
     "text": [
      "2023-06-02 21:01:21.454051: W tensorflow/tsl/framework/cpu_allocator_impl.cc:82] Allocation of 268435456 exceeds 10% of free system memory.\n",
      "2023-06-02 21:01:24.093063: W tensorflow/tsl/framework/cpu_allocator_impl.cc:82] Allocation of 268435456 exceeds 10% of free system memory.\n",
      "2023-06-02 21:01:24.096545: W tensorflow/tsl/framework/cpu_allocator_impl.cc:82] Allocation of 301989888 exceeds 10% of free system memory.\n",
      "2023-06-02 21:01:24.096638: W tensorflow/tsl/framework/cpu_allocator_impl.cc:82] Allocation of 301989888 exceeds 10% of free system memory.\n"
     ]
    }
   ],
   "source": [
    "unet.fit(image, label, epochs=10)"
   ]
  },
  {
   "cell_type": "code",
   "execution_count": 13,
   "metadata": {},
   "outputs": [
    {
     "data": {
      "text/plain": [
       "TensorShape([8, 256, 256, 3])"
      ]
     },
     "execution_count": 13,
     "metadata": {},
     "output_type": "execute_result"
    }
   ],
   "source": [
    "image.shape"
   ]
  }
 ],
 "metadata": {
  "kernelspec": {
   "display_name": "data-science",
   "language": "python",
   "name": "python3"
  },
  "language_info": {
   "codemirror_mode": {
    "name": "ipython",
    "version": 3
   },
   "file_extension": ".py",
   "mimetype": "text/x-python",
   "name": "python",
   "nbconvert_exporter": "python",
   "pygments_lexer": "ipython3",
   "version": "3.9.15"
  },
  "orig_nbformat": 4
 },
 "nbformat": 4,
 "nbformat_minor": 2
}
