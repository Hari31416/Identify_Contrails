{
 "cells": [
  {
   "cell_type": "code",
   "execution_count": 1,
   "id": "88dd9984",
   "metadata": {
    "execution": {
     "iopub.execute_input": "2023-06-19T05:08:50.517851Z",
     "iopub.status.busy": "2023-06-19T05:08:50.517432Z",
     "iopub.status.idle": "2023-06-19T05:08:50.530253Z",
     "shell.execute_reply": "2023-06-19T05:08:50.529404Z"
    },
    "papermill": {
     "duration": 0.024101,
     "end_time": "2023-06-19T05:08:50.532216",
     "exception": false,
     "start_time": "2023-06-19T05:08:50.508115",
     "status": "completed"
    },
    "tags": []
   },
   "outputs": [],
   "source": [
    "import sys\n",
    "sys.path.append(\"/kaggle/input/contrails-helper\")"
   ]
  },
  {
   "cell_type": "code",
   "execution_count": 2,
   "id": "c88eeaf9",
   "metadata": {
    "_cell_guid": "b1076dfc-b9ad-4769-8c92-a6c4dae69d19",
    "_uuid": "8f2839f25d086af736a60e9eeb907d3b93b6e0e5",
    "execution": {
     "iopub.execute_input": "2023-06-19T05:08:50.548115Z",
     "iopub.status.busy": "2023-06-19T05:08:50.547310Z",
     "iopub.status.idle": "2023-06-19T05:08:54.505434Z",
     "shell.execute_reply": "2023-06-19T05:08:54.504323Z"
    },
    "papermill": {
     "duration": 3.968592,
     "end_time": "2023-06-19T05:08:54.507980",
     "exception": false,
     "start_time": "2023-06-19T05:08:50.539388",
     "status": "completed"
    },
    "tags": []
   },
   "outputs": [],
   "source": [
    "import numpy as np\n",
    "import pandas as pd\n",
    "import matplotlib.pyplot as plt\n",
    "import glob\n",
    "from IPython.display import display\n",
    "import os\n",
    "\n",
    "import torch\n",
    "import torch.nn as nn\n",
    "import torch.nn.functional as F\n",
    "from torchvision import datasets, transforms, models\n",
    "from torch.utils.data import DataLoader\n",
    "from torch_train import TorchTrain"
   ]
  },
  {
   "cell_type": "code",
   "execution_count": 3,
   "id": "dac00c18",
   "metadata": {
    "execution": {
     "iopub.execute_input": "2023-06-19T05:08:54.524604Z",
     "iopub.status.busy": "2023-06-19T05:08:54.523801Z",
     "iopub.status.idle": "2023-06-19T05:08:54.528166Z",
     "shell.execute_reply": "2023-06-19T05:08:54.527304Z"
    },
    "papermill": {
     "duration": 0.015091,
     "end_time": "2023-06-19T05:08:54.530154",
     "exception": false,
     "start_time": "2023-06-19T05:08:54.515063",
     "status": "completed"
    },
    "tags": []
   },
   "outputs": [],
   "source": [
    "BASE_DIR = \"/kaggle/input/google-research-identify-contrails-reduce-global-warming\""
   ]
  },
  {
   "cell_type": "code",
   "execution_count": 4,
   "id": "0d10981c",
   "metadata": {
    "execution": {
     "iopub.execute_input": "2023-06-19T05:08:54.545392Z",
     "iopub.status.busy": "2023-06-19T05:08:54.544572Z",
     "iopub.status.idle": "2023-06-19T05:08:54.548830Z",
     "shell.execute_reply": "2023-06-19T05:08:54.548045Z"
    },
    "papermill": {
     "duration": 0.013783,
     "end_time": "2023-06-19T05:08:54.550864",
     "exception": false,
     "start_time": "2023-06-19T05:08:54.537081",
     "status": "completed"
    },
    "tags": []
   },
   "outputs": [],
   "source": [
    "# !ls $BASE_DIR/test/1002653297254493116"
   ]
  },
  {
   "cell_type": "code",
   "execution_count": 5,
   "id": "4143eb78",
   "metadata": {
    "execution": {
     "iopub.execute_input": "2023-06-19T05:08:54.565560Z",
     "iopub.status.busy": "2023-06-19T05:08:54.565258Z",
     "iopub.status.idle": "2023-06-19T05:08:54.572412Z",
     "shell.execute_reply": "2023-06-19T05:08:54.571613Z"
    },
    "papermill": {
     "duration": 0.016601,
     "end_time": "2023-06-19T05:08:54.574308",
     "exception": false,
     "start_time": "2023-06-19T05:08:54.557707",
     "status": "completed"
    },
    "tags": []
   },
   "outputs": [
    {
     "data": {
      "text/plain": [
       "device(type='cuda')"
      ]
     },
     "execution_count": 5,
     "metadata": {},
     "output_type": "execute_result"
    }
   ],
   "source": [
    "DEVICE = torch.device(\"cuda\" if torch.cuda.is_available() else \"cpu\")\n",
    "DEVICE"
   ]
  },
  {
   "cell_type": "code",
   "execution_count": 6,
   "id": "2b32adf2",
   "metadata": {
    "execution": {
     "iopub.execute_input": "2023-06-19T05:08:54.590017Z",
     "iopub.status.busy": "2023-06-19T05:08:54.589233Z",
     "iopub.status.idle": "2023-06-19T05:08:54.598358Z",
     "shell.execute_reply": "2023-06-19T05:08:54.597559Z"
    },
    "papermill": {
     "duration": 0.018996,
     "end_time": "2023-06-19T05:08:54.600229",
     "exception": false,
     "start_time": "2023-06-19T05:08:54.581233",
     "status": "completed"
    },
    "tags": []
   },
   "outputs": [],
   "source": [
    "_T11_BOUNDS = (243, 303)\n",
    "_CLOUD_TOP_TDIFF_BOUNDS = (-4, 5)\n",
    "_TDIFF_BOUNDS = (-4, 2)\n",
    "N_TIMES_BEFORE = 4\n",
    "IMG_SIZE = 256\n",
    "BATCH_SIZE = 16\n",
    "\n",
    "def normalize_range(data, bounds):\n",
    "    \"\"\"Maps data to the range [0, 1].\"\"\"\n",
    "    return (data - bounds[0]) / (bounds[1] - bounds[0])\n",
    "\n",
    "def load_one_record(record_id, BASE_DIR=BASE_DIR, mask_too=True):\n",
    "    band11 = np.load(f\"{BASE_DIR}/{str(record_id)}/band_11.npy\")\n",
    "    band14 = np.load(f\"{BASE_DIR}/{str(record_id)}/band_14.npy\")\n",
    "    band15 = np.load(f\"{BASE_DIR}/{str(record_id)}/band_15.npy\")\n",
    "    if mask_too:\n",
    "        human_pixel_mask =  np.load(f\"{BASE_DIR}/{str(record_id)}/human_pixel_masks.npy\")\n",
    "        \n",
    "    r = normalize_range(band15 - band14, _TDIFF_BOUNDS)\n",
    "    g = normalize_range(band14 - band11, _CLOUD_TOP_TDIFF_BOUNDS)\n",
    "    b = normalize_range(band14, _T11_BOUNDS)\n",
    "    false_color = np.clip(np.stack([r, g, b], axis=2), 0, 1)\n",
    "    \n",
    "    img = false_color[..., N_TIMES_BEFORE]\n",
    "    if mask_too:\n",
    "        return img, human_pixel_mask\n",
    "    else:\n",
    "        return img"
   ]
  },
  {
   "cell_type": "code",
   "execution_count": 7,
   "id": "a1dd3777",
   "metadata": {
    "execution": {
     "iopub.execute_input": "2023-06-19T05:08:54.615008Z",
     "iopub.status.busy": "2023-06-19T05:08:54.614696Z",
     "iopub.status.idle": "2023-06-19T05:08:54.663167Z",
     "shell.execute_reply": "2023-06-19T05:08:54.661942Z"
    },
    "papermill": {
     "duration": 0.060061,
     "end_time": "2023-06-19T05:08:54.667222",
     "exception": false,
     "start_time": "2023-06-19T05:08:54.607161",
     "status": "completed"
    },
    "tags": []
   },
   "outputs": [
    {
     "data": {
      "text/html": [
       "<div>\n",
       "<style scoped>\n",
       "    .dataframe tbody tr th:only-of-type {\n",
       "        vertical-align: middle;\n",
       "    }\n",
       "\n",
       "    .dataframe tbody tr th {\n",
       "        vertical-align: top;\n",
       "    }\n",
       "\n",
       "    .dataframe thead th {\n",
       "        text-align: right;\n",
       "    }\n",
       "</style>\n",
       "<table border=\"1\" class=\"dataframe\">\n",
       "  <thead>\n",
       "    <tr style=\"text-align: right;\">\n",
       "      <th></th>\n",
       "      <th>Record_ID</th>\n",
       "      <th>Split</th>\n",
       "      <th>Contrails</th>\n",
       "      <th>High_Pixels</th>\n",
       "    </tr>\n",
       "  </thead>\n",
       "  <tbody>\n",
       "    <tr>\n",
       "      <th>0</th>\n",
       "      <td>1000216489776414077</td>\n",
       "      <td>train</td>\n",
       "      <td>False</td>\n",
       "      <td>0.000000</td>\n",
       "    </tr>\n",
       "    <tr>\n",
       "      <th>1</th>\n",
       "      <td>1000603527582775543</td>\n",
       "      <td>train</td>\n",
       "      <td>True</td>\n",
       "      <td>8.512878</td>\n",
       "    </tr>\n",
       "    <tr>\n",
       "      <th>2</th>\n",
       "      <td>1000660467359258186</td>\n",
       "      <td>train</td>\n",
       "      <td>True</td>\n",
       "      <td>1.028442</td>\n",
       "    </tr>\n",
       "    <tr>\n",
       "      <th>3</th>\n",
       "      <td>100071707854144929</td>\n",
       "      <td>train</td>\n",
       "      <td>False</td>\n",
       "      <td>0.000000</td>\n",
       "    </tr>\n",
       "    <tr>\n",
       "      <th>4</th>\n",
       "      <td>1000823728928031783</td>\n",
       "      <td>train</td>\n",
       "      <td>True</td>\n",
       "      <td>0.563049</td>\n",
       "    </tr>\n",
       "  </tbody>\n",
       "</table>\n",
       "</div>"
      ],
      "text/plain": [
       "             Record_ID  Split  Contrails  High_Pixels\n",
       "0  1000216489776414077  train      False     0.000000\n",
       "1  1000603527582775543  train       True     8.512878\n",
       "2  1000660467359258186  train       True     1.028442\n",
       "3   100071707854144929  train      False     0.000000\n",
       "4  1000823728928031783  train       True     0.563049"
      ]
     },
     "execution_count": 7,
     "metadata": {},
     "output_type": "execute_result"
    }
   ],
   "source": [
    "metadata = pd.read_csv(\"/kaggle/input/contrails-helper/metadata.csv\")\n",
    "metadata.head()"
   ]
  },
  {
   "cell_type": "code",
   "execution_count": 8,
   "id": "8399b2ab",
   "metadata": {
    "execution": {
     "iopub.execute_input": "2023-06-19T05:08:54.685650Z",
     "iopub.status.busy": "2023-06-19T05:08:54.685326Z",
     "iopub.status.idle": "2023-06-19T05:08:54.714430Z",
     "shell.execute_reply": "2023-06-19T05:08:54.713256Z"
    },
    "papermill": {
     "duration": 0.040605,
     "end_time": "2023-06-19T05:08:54.716930",
     "exception": false,
     "start_time": "2023-06-19T05:08:54.676325",
     "status": "completed"
    },
    "tags": []
   },
   "outputs": [
    {
     "data": {
      "text/html": [
       "<div>\n",
       "<style scoped>\n",
       "    .dataframe tbody tr th:only-of-type {\n",
       "        vertical-align: middle;\n",
       "    }\n",
       "\n",
       "    .dataframe tbody tr th {\n",
       "        vertical-align: top;\n",
       "    }\n",
       "\n",
       "    .dataframe thead th {\n",
       "        text-align: right;\n",
       "    }\n",
       "</style>\n",
       "<table border=\"1\" class=\"dataframe\">\n",
       "  <thead>\n",
       "    <tr style=\"text-align: right;\">\n",
       "      <th></th>\n",
       "      <th>Record_ID</th>\n",
       "      <th>Split</th>\n",
       "      <th>Contrails</th>\n",
       "      <th>High_Pixels</th>\n",
       "    </tr>\n",
       "  </thead>\n",
       "  <tbody>\n",
       "    <tr>\n",
       "      <th>0</th>\n",
       "      <td>1000216489776414077</td>\n",
       "      <td>train</td>\n",
       "      <td>False</td>\n",
       "      <td>0.000000</td>\n",
       "    </tr>\n",
       "    <tr>\n",
       "      <th>1</th>\n",
       "      <td>1000603527582775543</td>\n",
       "      <td>train</td>\n",
       "      <td>True</td>\n",
       "      <td>8.512878</td>\n",
       "    </tr>\n",
       "    <tr>\n",
       "      <th>2</th>\n",
       "      <td>1000660467359258186</td>\n",
       "      <td>train</td>\n",
       "      <td>True</td>\n",
       "      <td>1.028442</td>\n",
       "    </tr>\n",
       "    <tr>\n",
       "      <th>3</th>\n",
       "      <td>100071707854144929</td>\n",
       "      <td>train</td>\n",
       "      <td>False</td>\n",
       "      <td>0.000000</td>\n",
       "    </tr>\n",
       "    <tr>\n",
       "      <th>4</th>\n",
       "      <td>1000823728928031783</td>\n",
       "      <td>train</td>\n",
       "      <td>True</td>\n",
       "      <td>0.563049</td>\n",
       "    </tr>\n",
       "  </tbody>\n",
       "</table>\n",
       "</div>"
      ],
      "text/plain": [
       "             Record_ID  Split  Contrails  High_Pixels\n",
       "0  1000216489776414077  train      False     0.000000\n",
       "1  1000603527582775543  train       True     8.512878\n",
       "2  1000660467359258186  train       True     1.028442\n",
       "3   100071707854144929  train      False     0.000000\n",
       "4  1000823728928031783  train       True     0.563049"
      ]
     },
     "metadata": {},
     "output_type": "display_data"
    },
    {
     "data": {
      "text/html": [
       "<div>\n",
       "<style scoped>\n",
       "    .dataframe tbody tr th:only-of-type {\n",
       "        vertical-align: middle;\n",
       "    }\n",
       "\n",
       "    .dataframe tbody tr th {\n",
       "        vertical-align: top;\n",
       "    }\n",
       "\n",
       "    .dataframe thead th {\n",
       "        text-align: right;\n",
       "    }\n",
       "</style>\n",
       "<table border=\"1\" class=\"dataframe\">\n",
       "  <thead>\n",
       "    <tr style=\"text-align: right;\">\n",
       "      <th></th>\n",
       "      <th>Record_ID</th>\n",
       "      <th>Split</th>\n",
       "      <th>Contrails</th>\n",
       "      <th>High_Pixels</th>\n",
       "    </tr>\n",
       "  </thead>\n",
       "  <tbody>\n",
       "    <tr>\n",
       "      <th>20529</th>\n",
       "      <td>1000834164244036115</td>\n",
       "      <td>validation</td>\n",
       "      <td>False</td>\n",
       "      <td>0.000000</td>\n",
       "    </tr>\n",
       "    <tr>\n",
       "      <th>20530</th>\n",
       "      <td>1002653297254493116</td>\n",
       "      <td>validation</td>\n",
       "      <td>False</td>\n",
       "      <td>0.000000</td>\n",
       "    </tr>\n",
       "    <tr>\n",
       "      <th>20531</th>\n",
       "      <td>1002777035567823518</td>\n",
       "      <td>validation</td>\n",
       "      <td>True</td>\n",
       "      <td>0.038147</td>\n",
       "    </tr>\n",
       "    <tr>\n",
       "      <th>20532</th>\n",
       "      <td>1010397530434035516</td>\n",
       "      <td>validation</td>\n",
       "      <td>False</td>\n",
       "      <td>0.000000</td>\n",
       "    </tr>\n",
       "    <tr>\n",
       "      <th>20533</th>\n",
       "      <td>1012978360687713914</td>\n",
       "      <td>validation</td>\n",
       "      <td>False</td>\n",
       "      <td>0.000000</td>\n",
       "    </tr>\n",
       "  </tbody>\n",
       "</table>\n",
       "</div>"
      ],
      "text/plain": [
       "                 Record_ID       Split  Contrails  High_Pixels\n",
       "20529  1000834164244036115  validation      False     0.000000\n",
       "20530  1002653297254493116  validation      False     0.000000\n",
       "20531  1002777035567823518  validation       True     0.038147\n",
       "20532  1010397530434035516  validation      False     0.000000\n",
       "20533  1012978360687713914  validation      False     0.000000"
      ]
     },
     "metadata": {},
     "output_type": "display_data"
    }
   ],
   "source": [
    "train_md = metadata[metadata[\"Split\"] == \"train\"]\n",
    "validation_md = metadata[metadata[\"Split\"] == \"validation\"]\n",
    "display(train_md.head())\n",
    "display(validation_md.head())"
   ]
  },
  {
   "cell_type": "code",
   "execution_count": 9,
   "id": "fbaf75a2",
   "metadata": {
    "execution": {
     "iopub.execute_input": "2023-06-19T05:08:54.736430Z",
     "iopub.status.busy": "2023-06-19T05:08:54.734848Z",
     "iopub.status.idle": "2023-06-19T05:08:54.742189Z",
     "shell.execute_reply": "2023-06-19T05:08:54.741306Z"
    },
    "papermill": {
     "duration": 0.018398,
     "end_time": "2023-06-19T05:08:54.744154",
     "exception": false,
     "start_time": "2023-06-19T05:08:54.725756",
     "status": "completed"
    },
    "tags": []
   },
   "outputs": [],
   "source": [
    "class ContrailsDataLoader():\n",
    "    def __init__(self, df, split=\"train\"):\n",
    "        self.df = df\n",
    "        self.split = split\n",
    "        \n",
    "    def __getitem__(self, idx):\n",
    "        record_id = self.df.iloc[idx][\"Record_ID\"]\n",
    "        images, mask = load_one_record(record_id, f\"{BASE_DIR}/{self.split}\")\n",
    "        images = images.transpose(2, 0, 1)\n",
    "        mask = mask.transpose(2, 0, 1)\n",
    "        return torch.from_numpy(images).float(), torch.from_numpy(mask).float()\n",
    "\n",
    "    def __len__(self):\n",
    "        return len(self.df)"
   ]
  },
  {
   "cell_type": "code",
   "execution_count": 10,
   "id": "27afc867",
   "metadata": {
    "execution": {
     "iopub.execute_input": "2023-06-19T05:08:54.763003Z",
     "iopub.status.busy": "2023-06-19T05:08:54.761330Z",
     "iopub.status.idle": "2023-06-19T05:08:54.768581Z",
     "shell.execute_reply": "2023-06-19T05:08:54.767699Z"
    },
    "papermill": {
     "duration": 0.01838,
     "end_time": "2023-06-19T05:08:54.770588",
     "exception": false,
     "start_time": "2023-06-19T05:08:54.752208",
     "status": "completed"
    },
    "tags": []
   },
   "outputs": [],
   "source": [
    "class ContrailsDataLoaderTest():\n",
    "    def __init__(self, ids, split=\"test\"):\n",
    "        self.ids = ids\n",
    "        self.split = split\n",
    "        \n",
    "    def __getitem__(self, idx):\n",
    "        record_id = self.ids[idx]\n",
    "        images = load_one_record(record_id, f\"{BASE_DIR}/{self.split}\", mask_too=False)\n",
    "        images = images.transpose(2, 0, 1)\n",
    "        return torch.from_numpy(images).float(), record_id\n",
    "\n",
    "    def __len__(self):\n",
    "        return len(self.ids)"
   ]
  },
  {
   "cell_type": "code",
   "execution_count": 11,
   "id": "c09e9be6",
   "metadata": {
    "execution": {
     "iopub.execute_input": "2023-06-19T05:08:54.789095Z",
     "iopub.status.busy": "2023-06-19T05:08:54.787732Z",
     "iopub.status.idle": "2023-06-19T05:08:54.793652Z",
     "shell.execute_reply": "2023-06-19T05:08:54.792752Z"
    },
    "papermill": {
     "duration": 0.017354,
     "end_time": "2023-06-19T05:08:54.795882",
     "exception": false,
     "start_time": "2023-06-19T05:08:54.778528",
     "status": "completed"
    },
    "tags": []
   },
   "outputs": [],
   "source": [
    "train_dataloader = ContrailsDataLoader(train_md, \"train\")\n",
    "validation_dataloader = ContrailsDataLoader(validation_md, \"validation\")\n",
    "\n",
    "train_data = DataLoader(train_dataloader, batch_size=BATCH_SIZE, shuffle=True, num_workers=2)\n",
    "validation_data = DataLoader(validation_dataloader, batch_size=BATCH_SIZE, shuffle=True, num_workers=2)"
   ]
  },
  {
   "cell_type": "code",
   "execution_count": 12,
   "id": "c496819b",
   "metadata": {
    "execution": {
     "iopub.execute_input": "2023-06-19T05:08:54.813373Z",
     "iopub.status.busy": "2023-06-19T05:08:54.813114Z",
     "iopub.status.idle": "2023-06-19T05:08:57.802922Z",
     "shell.execute_reply": "2023-06-19T05:08:57.801802Z"
    },
    "papermill": {
     "duration": 3.001626,
     "end_time": "2023-06-19T05:08:57.805472",
     "exception": false,
     "start_time": "2023-06-19T05:08:54.803846",
     "status": "completed"
    },
    "tags": []
   },
   "outputs": [
    {
     "name": "stdout",
     "output_type": "stream",
     "text": [
      "torch.Size([16, 3, 256, 256]) torch.Size([16, 1, 256, 256])\n"
     ]
    }
   ],
   "source": [
    "for image, label in train_data:\n",
    "    print(image.shape, label.shape)\n",
    "    break"
   ]
  },
  {
   "cell_type": "code",
   "execution_count": 13,
   "id": "51f14207",
   "metadata": {
    "execution": {
     "iopub.execute_input": "2023-06-19T05:08:57.823402Z",
     "iopub.status.busy": "2023-06-19T05:08:57.822541Z",
     "iopub.status.idle": "2023-06-19T05:08:57.831763Z",
     "shell.execute_reply": "2023-06-19T05:08:57.830487Z"
    },
    "papermill": {
     "duration": 0.020204,
     "end_time": "2023-06-19T05:08:57.833775",
     "exception": false,
     "start_time": "2023-06-19T05:08:57.813571",
     "status": "completed"
    },
    "tags": []
   },
   "outputs": [
    {
     "name": "stdout",
     "output_type": "stream",
     "text": [
      "2\n"
     ]
    }
   ],
   "source": [
    "test_ids = os.listdir(f\"{BASE_DIR}/test\")\n",
    "print(len(test_ids))"
   ]
  },
  {
   "cell_type": "code",
   "execution_count": 14,
   "id": "9e3c95c1",
   "metadata": {
    "execution": {
     "iopub.execute_input": "2023-06-19T05:08:57.850256Z",
     "iopub.status.busy": "2023-06-19T05:08:57.849992Z",
     "iopub.status.idle": "2023-06-19T05:08:57.855890Z",
     "shell.execute_reply": "2023-06-19T05:08:57.854864Z"
    },
    "papermill": {
     "duration": 0.016571,
     "end_time": "2023-06-19T05:08:57.857996",
     "exception": false,
     "start_time": "2023-06-19T05:08:57.841425",
     "status": "completed"
    },
    "tags": []
   },
   "outputs": [],
   "source": [
    "test_dataloader = ContrailsDataLoaderTest(test_ids, \"test\")\n",
    "test_data = DataLoader(test_dataloader, batch_size=10, shuffle=False, num_workers=2)"
   ]
  },
  {
   "cell_type": "code",
   "execution_count": 15,
   "id": "9ea8e1f9",
   "metadata": {
    "execution": {
     "iopub.execute_input": "2023-06-19T05:08:57.874317Z",
     "iopub.status.busy": "2023-06-19T05:08:57.874060Z",
     "iopub.status.idle": "2023-06-19T05:08:58.095079Z",
     "shell.execute_reply": "2023-06-19T05:08:58.093791Z"
    },
    "papermill": {
     "duration": 0.23171,
     "end_time": "2023-06-19T05:08:58.097302",
     "exception": false,
     "start_time": "2023-06-19T05:08:57.865592",
     "status": "completed"
    },
    "tags": []
   },
   "outputs": [
    {
     "name": "stdout",
     "output_type": "stream",
     "text": [
      "torch.Size([2, 3, 256, 256]) ('1002653297254493116', '1000834164244036115')\n"
     ]
    }
   ],
   "source": [
    "for image, img_id in test_data:\n",
    "    print(image.shape, img_id)\n",
    "    break"
   ]
  },
  {
   "cell_type": "code",
   "execution_count": 16,
   "id": "a1760a6f",
   "metadata": {
    "execution": {
     "iopub.execute_input": "2023-06-19T05:08:58.115454Z",
     "iopub.status.busy": "2023-06-19T05:08:58.114829Z",
     "iopub.status.idle": "2023-06-19T05:08:58.133995Z",
     "shell.execute_reply": "2023-06-19T05:08:58.133173Z"
    },
    "papermill": {
     "duration": 0.030687,
     "end_time": "2023-06-19T05:08:58.136010",
     "exception": false,
     "start_time": "2023-06-19T05:08:58.105323",
     "status": "completed"
    },
    "tags": []
   },
   "outputs": [],
   "source": [
    "class DoubleConv(nn.Module):\n",
    "    def __init__(self, in_channels, out_channels):\n",
    "        super(DoubleConv, self).__init__()\n",
    "        self.double_conv = nn.Sequential(\n",
    "            nn.Conv2d(in_channels, out_channels, kernel_size=3, padding=1),\n",
    "            nn.BatchNorm2d(out_channels),\n",
    "            nn.ReLU(inplace=True),\n",
    "            nn.Conv2d(out_channels, out_channels, kernel_size=3, padding=1),\n",
    "            nn.BatchNorm2d(out_channels),\n",
    "            nn.ReLU(inplace=True)\n",
    "        )\n",
    "\n",
    "    def forward(self, x):\n",
    "        return self.double_conv(x)\n",
    "\n",
    "\n",
    "class Down(nn.Module):\n",
    "    def __init__(self, in_channels, out_channels):\n",
    "        super(Down, self).__init__()\n",
    "        self.maxpool_conv = nn.Sequential(\n",
    "            nn.MaxPool2d(2),\n",
    "            DoubleConv(in_channels, out_channels)\n",
    "        )\n",
    "\n",
    "    def forward(self, x):\n",
    "        return self.maxpool_conv(x)\n",
    "\n",
    "\n",
    "class Up(nn.Module):\n",
    "    def __init__(self, in_channels, out_channels, bilinear=True):\n",
    "        super(Up, self).__init__()\n",
    "\n",
    "        if bilinear:\n",
    "            self.up = nn.Upsample(scale_factor=2, mode='bilinear', align_corners=True)\n",
    "        else:\n",
    "            self.up = nn.ConvTranspose2d(in_channels // 2, in_channels // 2, kernel_size=2, stride=2)\n",
    "\n",
    "        self.conv = DoubleConv(in_channels, out_channels)\n",
    "\n",
    "    def forward(self, x1, x2):\n",
    "        x1 = self.up(x1)\n",
    "\n",
    "        diffY = x2.size()[2] - x1.size()[2]\n",
    "        diffX = x2.size()[3] - x1.size()[3]\n",
    "\n",
    "        x1 = nn.functional.pad(x1, [diffX // 2, diffX - diffX // 2, diffY // 2, diffY - diffY // 2])\n",
    "        \n",
    "        x = torch.cat([x2, x1], dim=1)\n",
    "        return self.conv(x)\n",
    "\n",
    "\n",
    "class UNet(nn.Module):\n",
    "    def __init__(self, input_channels = 3):\n",
    "        super(UNet, self).__init__()\n",
    "        # Define your layers\n",
    "        self.input_channels = input_channels\n",
    "        self.inc = DoubleConv(input_channels, 64)\n",
    "        self.down1 = Down(64, 128)\n",
    "        self.down2 = Down(128, 256)\n",
    "        self.down3 = Down(256, 512)\n",
    "        self.down4 = Down(512, 512)\n",
    "        self.up1 = Up(1024, 256)\n",
    "        self.up2 = Up(512, 128)\n",
    "        self.up3 = Up(256, 64)\n",
    "        self.up4 = Up(128, 64)\n",
    "        self.outc = nn.Conv2d(64, 1, kernel_size=1)\n",
    "\n",
    "    def forward(self, x):\n",
    "        # Forward pass through the layers\n",
    "        x1 = self.inc(x)\n",
    "        x2 = self.down1(x1)\n",
    "        x3 = self.down2(x2)\n",
    "        x4 = self.down3(x3)\n",
    "        x5 = self.down4(x4)\n",
    "        x = self.up1(x5, x4)\n",
    "        x = self.up2(x, x3)\n",
    "        x = self.up3(x, x2)\n",
    "        x = self.up4(x, x1)\n",
    "        x = self.outc(x)\n",
    "        return x"
   ]
  },
  {
   "cell_type": "code",
   "execution_count": 17,
   "id": "429fad27",
   "metadata": {
    "execution": {
     "iopub.execute_input": "2023-06-19T05:08:58.156212Z",
     "iopub.status.busy": "2023-06-19T05:08:58.155892Z",
     "iopub.status.idle": "2023-06-19T05:08:58.162582Z",
     "shell.execute_reply": "2023-06-19T05:08:58.161712Z"
    },
    "papermill": {
     "duration": 0.017591,
     "end_time": "2023-06-19T05:08:58.164578",
     "exception": false,
     "start_time": "2023-06-19T05:08:58.146987",
     "status": "completed"
    },
    "tags": []
   },
   "outputs": [],
   "source": [
    "class Dice(nn.Module):\n",
    "    def __init__(self, use_sigmoid=True):\n",
    "        super(Dice, self).__init__()\n",
    "        self.sigmoid = nn.Sigmoid()\n",
    "        self.use_sigmoid = use_sigmoid\n",
    "\n",
    "    def forward(self, inputs, targets, smooth=1):\n",
    "        if self.use_sigmoid:\n",
    "            inputs = self.sigmoid(inputs)       \n",
    "        \n",
    "        inputs = inputs.view(-1)\n",
    "        targets = targets.view(-1)\n",
    "        \n",
    "        intersection = (inputs * targets).sum()\n",
    "        dice = (2.0 *intersection + smooth)/(inputs.sum() + targets.sum() + smooth)  \n",
    "        \n",
    "        return dice\n",
    "dice = Dice()"
   ]
  },
  {
   "cell_type": "code",
   "execution_count": 18,
   "id": "21590f9c",
   "metadata": {
    "execution": {
     "iopub.execute_input": "2023-06-19T05:08:58.181793Z",
     "iopub.status.busy": "2023-06-19T05:08:58.180996Z",
     "iopub.status.idle": "2023-06-19T06:34:35.626484Z",
     "shell.execute_reply": "2023-06-19T06:34:35.622295Z"
    },
    "papermill": {
     "duration": 5137.945608,
     "end_time": "2023-06-19T06:34:36.117909",
     "exception": false,
     "start_time": "2023-06-19T05:08:58.172301",
     "status": "completed"
    },
    "tags": []
   },
   "outputs": [
    {
     "name": "stdout",
     "output_type": "stream",
     "text": [
      "Epoch  1/ 5 Batch 1284/1284[====================] Train loss: 0.3817 | Train Dice: 0.0707\n",
      "Epoch    1/   5[========------------] Test loss: 0.1752 | Test Dice: 0.0460\n",
      "Epoch  2/ 5 Batch 1284/1284[====================] Train loss: 0.2340 | Train Dice: 0.1177\n",
      "Epoch    2/   5[============--------] Test loss: 0.2585 | Test Dice: 0.0228\n",
      "Epoch  3/ 5 Batch 1284/1284[====================] Train loss: 0.2038 | Train Dice: 0.1349\n",
      "Epoch    3/   5[================----] Test loss: 0.1448 | Test Dice: 0.0627\n",
      "Epoch  4/ 5 Batch 1284/1284[====================] Train loss: 0.1811 | Train Dice: 0.1489\n",
      "Epoch    4/   5[====================] Test loss: 0.1957 | Test Dice: 0.2188\n",
      "Epoch  5/ 5 Batch 1284/1284[====================] Train loss: 0.1653 | Train Dice: 0.1620\n",
      "Epoch    5/   5[========================] Test loss: 0.1069 | Test Dice: 0.0764\n"
     ]
    }
   ],
   "source": [
    "unet = UNet()\n",
    "unet.to(DEVICE)\n",
    "optimizer = torch.optim.Adam(unet.parameters(), lr=0.001)\n",
    "loss_fn = nn.BCEWithLogitsLoss(pos_weight=torch.tensor(100))\n",
    "metrics = {\n",
    "    \"dice\": dice,\n",
    "}\n",
    "tt = TorchTrain(unet, optimizer, loss_fn, metrics = metrics)\n",
    "history = tt.fit(train_data, validation_data, verbose = True, epochs = 5)"
   ]
  },
  {
   "cell_type": "code",
   "execution_count": 19,
   "id": "fb97854a",
   "metadata": {
    "execution": {
     "iopub.execute_input": "2023-06-19T06:34:37.208890Z",
     "iopub.status.busy": "2023-06-19T06:34:37.207754Z",
     "iopub.status.idle": "2023-06-19T06:34:37.213145Z",
     "shell.execute_reply": "2023-06-19T06:34:37.212147Z"
    },
    "papermill": {
     "duration": 0.528819,
     "end_time": "2023-06-19T06:34:37.215310",
     "exception": false,
     "start_time": "2023-06-19T06:34:36.686491",
     "status": "completed"
    },
    "tags": []
   },
   "outputs": [],
   "source": [
    "# model_scripted = torch.jit.script(unet)\n",
    "# model_scripted.save('unet.pt')\n",
    "# torch.save(unet.state_dict(), \"unet_state.pt\")"
   ]
  },
  {
   "cell_type": "code",
   "execution_count": 20,
   "id": "93181527",
   "metadata": {
    "execution": {
     "iopub.execute_input": "2023-06-19T06:34:38.246620Z",
     "iopub.status.busy": "2023-06-19T06:34:38.246267Z",
     "iopub.status.idle": "2023-06-19T06:34:38.251760Z",
     "shell.execute_reply": "2023-06-19T06:34:38.250892Z"
    },
    "papermill": {
     "duration": 0.505586,
     "end_time": "2023-06-19T06:34:38.253672",
     "exception": false,
     "start_time": "2023-06-19T06:34:37.748086",
     "status": "completed"
    },
    "tags": []
   },
   "outputs": [],
   "source": [
    "unet.eval();"
   ]
  },
  {
   "cell_type": "code",
   "execution_count": 21,
   "id": "4e91a839",
   "metadata": {
    "execution": {
     "iopub.execute_input": "2023-06-19T06:34:39.286522Z",
     "iopub.status.busy": "2023-06-19T06:34:39.285967Z",
     "iopub.status.idle": "2023-06-19T06:34:39.293811Z",
     "shell.execute_reply": "2023-06-19T06:34:39.292771Z"
    },
    "papermill": {
     "duration": 0.499866,
     "end_time": "2023-06-19T06:34:39.296536",
     "exception": false,
     "start_time": "2023-06-19T06:34:38.796670",
     "status": "completed"
    },
    "tags": []
   },
   "outputs": [],
   "source": [
    "def rle_encode(x, fg_val=1):\n",
    "    \"\"\"\n",
    "    Args:\n",
    "        x:  numpy array of shape (height, width), 1 - mask, 0 - background\n",
    "    Returns: run length encoding as list\n",
    "    \"\"\"\n",
    "\n",
    "    dots = np.where(\n",
    "        x.T.flatten() == fg_val)[0]  # .T sets Fortran order down-then-right\n",
    "    run_lengths = []\n",
    "    prev = -2\n",
    "    for b in dots:\n",
    "        if b > prev + 1:\n",
    "            run_lengths.extend((b + 1, 0))\n",
    "        run_lengths[-1] += 1\n",
    "        prev = b\n",
    "    return run_lengths\n",
    "\n",
    "def list_to_string(x):\n",
    "    \"\"\"\n",
    "    Converts list to a string representation\n",
    "    Empty list returns '-'\n",
    "    \"\"\"\n",
    "    if x: # non-empty list\n",
    "        s = str(x).replace(\"[\", \"\").replace(\"]\", \"\").replace(\",\", \"\")\n",
    "    else:\n",
    "        s = '-'\n",
    "    return s\n"
   ]
  },
  {
   "cell_type": "code",
   "execution_count": 22,
   "id": "9eb1bff4",
   "metadata": {
    "execution": {
     "iopub.execute_input": "2023-06-19T06:34:40.271690Z",
     "iopub.status.busy": "2023-06-19T06:34:40.271324Z",
     "iopub.status.idle": "2023-06-19T06:34:40.321716Z",
     "shell.execute_reply": "2023-06-19T06:34:40.320850Z"
    },
    "papermill": {
     "duration": 0.541922,
     "end_time": "2023-06-19T06:34:40.323965",
     "exception": false,
     "start_time": "2023-06-19T06:34:39.782043",
     "status": "completed"
    },
    "tags": []
   },
   "outputs": [],
   "source": [
    "submission = pd.read_csv('/kaggle/input/google-research-identify-contrails-reduce-global-warming/sample_submission.csv', index_col='record_id')"
   ]
  },
  {
   "cell_type": "code",
   "execution_count": 23,
   "id": "02eb0535",
   "metadata": {
    "execution": {
     "iopub.execute_input": "2023-06-19T06:34:41.375992Z",
     "iopub.status.busy": "2023-06-19T06:34:41.374970Z",
     "iopub.status.idle": "2023-06-19T06:34:41.819273Z",
     "shell.execute_reply": "2023-06-19T06:34:41.817761Z"
    },
    "papermill": {
     "duration": 1.015307,
     "end_time": "2023-06-19T06:34:41.822296",
     "exception": false,
     "start_time": "2023-06-19T06:34:40.806989",
     "status": "completed"
    },
    "tags": []
   },
   "outputs": [],
   "source": [
    "for i, data in enumerate(test_data):\n",
    "    images, image_id = data\n",
    "    \n",
    "    # Predict mask for this instance\n",
    "    images = images.to(DEVICE)\n",
    "    predicated_mask = unet(images)\n",
    "    predicated_mask = torch.sigmoid(predicated_mask).cpu().detach().numpy()\n",
    "    \n",
    "    # Apply threshold\n",
    "    predicated_mask_with_threshold = np.zeros((images.shape[0], 256, 256))\n",
    "    predicated_mask_with_threshold[predicated_mask[:, 0, :, :] < 0.9] = 0\n",
    "    predicated_mask_with_threshold[predicated_mask[:, 0, :, :] > 0.9] = 1\n",
    "    \n",
    "    for img_num in range(0, images.shape[0]):\n",
    "        current_mask = predicated_mask_with_threshold[img_num, :, :]\n",
    "        current_image_id = image_id[img_num]\n",
    "        \n",
    "        submission.loc[int(current_image_id), 'encoded_pixels'] = list_to_string(rle_encode(current_mask))"
   ]
  },
  {
   "cell_type": "code",
   "execution_count": 24,
   "id": "1fecfe1c",
   "metadata": {
    "execution": {
     "iopub.execute_input": "2023-06-19T06:34:42.980987Z",
     "iopub.status.busy": "2023-06-19T06:34:42.980491Z",
     "iopub.status.idle": "2023-06-19T06:34:42.997951Z",
     "shell.execute_reply": "2023-06-19T06:34:42.997126Z"
    },
    "papermill": {
     "duration": 0.696706,
     "end_time": "2023-06-19T06:34:43.001065",
     "exception": false,
     "start_time": "2023-06-19T06:34:42.304359",
     "status": "completed"
    },
    "tags": []
   },
   "outputs": [
    {
     "data": {
      "text/html": [
       "<div>\n",
       "<style scoped>\n",
       "    .dataframe tbody tr th:only-of-type {\n",
       "        vertical-align: middle;\n",
       "    }\n",
       "\n",
       "    .dataframe tbody tr th {\n",
       "        vertical-align: top;\n",
       "    }\n",
       "\n",
       "    .dataframe thead th {\n",
       "        text-align: right;\n",
       "    }\n",
       "</style>\n",
       "<table border=\"1\" class=\"dataframe\">\n",
       "  <thead>\n",
       "    <tr style=\"text-align: right;\">\n",
       "      <th></th>\n",
       "      <th>encoded_pixels</th>\n",
       "    </tr>\n",
       "    <tr>\n",
       "      <th>record_id</th>\n",
       "      <th></th>\n",
       "    </tr>\n",
       "  </thead>\n",
       "  <tbody>\n",
       "    <tr>\n",
       "      <th>1000834164244036115</th>\n",
       "      <td>40452 1 40966 2 41222 3 41479 4 41736 6 41994 ...</td>\n",
       "    </tr>\n",
       "    <tr>\n",
       "      <th>1002653297254493116</th>\n",
       "      <td>29126 2 29377 13 29629 13 29883 10 30138 7 303...</td>\n",
       "    </tr>\n",
       "  </tbody>\n",
       "</table>\n",
       "</div>"
      ],
      "text/plain": [
       "                                                        encoded_pixels\n",
       "record_id                                                             \n",
       "1000834164244036115  40452 1 40966 2 41222 3 41479 4 41736 6 41994 ...\n",
       "1002653297254493116  29126 2 29377 13 29629 13 29883 10 30138 7 303..."
      ]
     },
     "execution_count": 24,
     "metadata": {},
     "output_type": "execute_result"
    }
   ],
   "source": [
    "submission"
   ]
  },
  {
   "cell_type": "code",
   "execution_count": 25,
   "id": "f88050a9",
   "metadata": {
    "execution": {
     "iopub.execute_input": "2023-06-19T06:34:44.259704Z",
     "iopub.status.busy": "2023-06-19T06:34:44.259289Z",
     "iopub.status.idle": "2023-06-19T06:34:44.269570Z",
     "shell.execute_reply": "2023-06-19T06:34:44.268569Z"
    },
    "papermill": {
     "duration": 0.576242,
     "end_time": "2023-06-19T06:34:44.271782",
     "exception": false,
     "start_time": "2023-06-19T06:34:43.695540",
     "status": "completed"
    },
    "tags": []
   },
   "outputs": [],
   "source": [
    "submission.to_csv('submission.csv')"
   ]
  }
 ],
 "metadata": {
  "kernelspec": {
   "display_name": "Python 3",
   "language": "python",
   "name": "python3"
  },
  "language_info": {
   "codemirror_mode": {
    "name": "ipython",
    "version": 3
   },
   "file_extension": ".py",
   "mimetype": "text/x-python",
   "name": "python",
   "nbconvert_exporter": "python",
   "pygments_lexer": "ipython3",
   "version": "3.10.10"
  },
  "papermill": {
   "default_parameters": {},
   "duration": 5168.075809,
   "end_time": "2023-06-19T06:34:48.055036",
   "environment_variables": {},
   "exception": null,
   "input_path": "__notebook__.ipynb",
   "output_path": "__notebook__.ipynb",
   "parameters": {},
   "start_time": "2023-06-19T05:08:39.979227",
   "version": "2.4.0"
  }
 },
 "nbformat": 4,
 "nbformat_minor": 5
}
